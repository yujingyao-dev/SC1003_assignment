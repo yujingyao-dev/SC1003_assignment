{
 "cells": [
  {
   "cell_type": "code",
   "execution_count": 36,
   "id": "1ffb5895",
   "metadata": {},
   "outputs": [],
   "source": [
    "test_list = [1,2,3,4,5,6,7,8]\n",
    "test_str = 'The Quick Brown Fox Jumps Over A Lazy Dog.'"
   ]
  },
  {
   "cell_type": "code",
   "execution_count": null,
   "id": "4fc7994b",
   "metadata": {},
   "outputs": [
    {
     "name": "stdout",
     "output_type": "stream",
     "text": [
      "8\n"
     ]
    }
   ],
   "source": [
    "# Q1. Built-in len() function\n",
    "# 1. recursive without accumulator\n",
    "def len1(nums:list, pointer=0)->int:\n",
    "    try:\n",
    "        nums[pointer]\n",
    "        return 1 + len1(nums, pointer+1)\n",
    "    except IndexError:\n",
    "        return 0\n",
    "\n",
    "print(len1(test_list))"
   ]
  },
  {
   "cell_type": "code",
   "execution_count": 41,
   "id": "9edb2b5a",
   "metadata": {},
   "outputs": [
    {
     "name": "stdout",
     "output_type": "stream",
     "text": [
      "8\n"
     ]
    }
   ],
   "source": [
    "# 2. recursive with accumulator\n",
    "def len2(nums:list, pointer=0)->int:\n",
    "    try:\n",
    "        nums[pointer]\n",
    "        return len2(nums, pointer+1)\n",
    "    except IndexError:\n",
    "        return pointer\n",
    "\n",
    "print(len2(test_list))"
   ]
  },
  {
   "cell_type": "code",
   "execution_count": 20,
   "id": "5e4e8878",
   "metadata": {},
   "outputs": [
    {
     "name": "stdout",
     "output_type": "stream",
     "text": [
      "9\n"
     ]
    }
   ],
   "source": [
    "# 3. iteration\n",
    "def len3(nums:list):\n",
    "    count = 0\n",
    "    for _ in nums:\n",
    "        count += 1\n",
    "    return count\n",
    "\n",
    "print(len3(test_list))"
   ]
  },
  {
   "cell_type": "code",
   "execution_count": null,
   "id": "cb7bdc48",
   "metadata": {},
   "outputs": [
    {
     "name": "stdout",
     "output_type": "stream",
     "text": [
      "11\n"
     ]
    }
   ],
   "source": [
    "# Q2. Count the number of vowels in a given string\n",
    "# 1. recursive without accumulator\n",
    "def vowel1(words:str)->int:\n",
    "    word_list = list(words)\n",
    "    vowels = ['a','e','i','o','u','A','E','I','O','U']\n",
    "    def count_vowel(word_list:list)->int:\n",
    "        if not word_list:\n",
    "            return 0\n",
    "        letter = word_list.pop()\n",
    "        return 1 + count_vowel(word_list) if letter in vowels else count_vowel(word_list)\n",
    "    return count_vowel(word_list)\n",
    "\n",
    "print(vowel1(test_str))\n"
   ]
  },
  {
   "cell_type": "code",
   "execution_count": 22,
   "id": "ea848f45",
   "metadata": {},
   "outputs": [
    {
     "name": "stdout",
     "output_type": "stream",
     "text": [
      "11\n"
     ]
    }
   ],
   "source": [
    "# 2. recursive with accumulator\n",
    "def vowel2(words:str)->int:\n",
    "    word_list = list(words)\n",
    "    vowels = ['a','e','i','o','u','A','E','I','O','U']\n",
    "    def count_vowel(word_list:list, length=0)->int:\n",
    "        if not word_list:\n",
    "            return length\n",
    "        letter = word_list.pop()\n",
    "        return count_vowel(word_list, length+1) if letter in vowels else count_vowel(word_list, length)\n",
    "    return count_vowel(word_list)\n",
    "\n",
    "print(vowel2(test_str))"
   ]
  },
  {
   "cell_type": "code",
   "execution_count": null,
   "id": "e1065929",
   "metadata": {},
   "outputs": [
    {
     "name": "stdout",
     "output_type": "stream",
     "text": [
      "11\n"
     ]
    }
   ],
   "source": [
    "# 3. iteration\n",
    "def vowel3(words:str)->int:\n",
    "    vowels = ['a','e','i','o','u','A','E','I','O','U']\n",
    "    count = 0\n",
    "    for letter in words:\n",
    "        if letter in vowels:\n",
    "            count += 1\n",
    "    return count\n",
    "\n",
    "print(vowel3(test_str))"
   ]
  },
  {
   "cell_type": "code",
   "execution_count": null,
   "id": "75f88282",
   "metadata": {},
   "outputs": [
    {
     "name": "stdout",
     "output_type": "stream",
     "text": [
      "['11111111', '11111110', '11111101', '11111011', '11111010', '11110111', '11110110', '11110101', '11101111', '11101110', '11101101', '11101011', '11101010', '11011111', '11011110', '11011101', '11011011', '11011010', '11010111', '11010110', '11010101', '10111111', '10111110', '10111101', '10111011', '10111010', '10110111', '10110110', '10110101', '10101111', '10101110', '10101101', '10101011', '10101010', '01111111', '01111110', '01111101', '01111011', '01111010', '01110111', '01110110', '01110101', '01101111', '01101110', '01101101', '01101011', '01101010', '01011111', '01011110', '01011101', '01011011', '01011010', '01010111', '01010110', '01010101']\n"
     ]
    }
   ],
   "source": [
    "# Q3. n length binary strings generator without consecutive 0s\n",
    "def binary_string(n:int)->list[str]:\n",
    "    if n <= 0:\n",
    "        return []\n",
    "    res = []\n",
    "    def create_string(n:int, string=[]):\n",
    "        if n == 0:\n",
    "            res.append(''.join(string))\n",
    "            return\n",
    "        string.append('1')\n",
    "        create_string(n-1, string)\n",
    "        string.pop()\n",
    "        if not string or string[-1] != '0':\n",
    "            string.append('0')\n",
    "            create_string(n-1, string)\n",
    "            string.pop()\n",
    "    \n",
    "    create_string(n)\n",
    "    return res\n",
    "\n",
    "print(binary_string(8))"
   ]
  },
  {
   "cell_type": "code",
   "execution_count": null,
   "id": "cec3f033",
   "metadata": {},
   "outputs": [
    {
     "name": "stdout",
     "output_type": "stream",
     "text": [
      "['0000', '0001', '0010', '0011', '0100', '0101', '0110', '1000', '1001', '1010', '1100']\n"
     ]
    }
   ],
   "source": [
    "# Q4. n length binary strings generator with hamming weight at most c\n",
    "def binary_string(n:int, c:int)->list[str]:\n",
    "    if n <= 0 or c < 0:\n",
    "        return []\n",
    "    res = []\n",
    "    def create_string(n:int, c:int, string=[]):\n",
    "        if n == 0:\n",
    "            res.append(''.join(string))\n",
    "            return\n",
    "        string.append('0')\n",
    "        create_string(n-1, c, string)\n",
    "        string.pop()\n",
    "        if c > 0:\n",
    "            string.append('1')\n",
    "            create_string(n-1, c-1, string)\n",
    "            string.pop()\n",
    "    \n",
    "    create_string(n, c)\n",
    "    return res\n",
    "\n",
    "print(binary_string(4,2))"
   ]
  },
  {
   "cell_type": "markdown",
   "id": "5323e07b",
   "metadata": {},
   "source": [
    "Q5. \n",
    "- $O(n)$\n",
    "- $O(1)$\n",
    "- $O(n \\log{n})$\n",
    "- $O(\\log{n})$\n",
    "- $O(n^{32})$"
   ]
  }
 ],
 "metadata": {
  "kernelspec": {
   "display_name": "data_analysis_env",
   "language": "python",
   "name": "python3"
  },
  "language_info": {
   "codemirror_mode": {
    "name": "ipython",
    "version": 3
   },
   "file_extension": ".py",
   "mimetype": "text/x-python",
   "name": "python",
   "nbconvert_exporter": "python",
   "pygments_lexer": "ipython3",
   "version": "3.13.9"
  }
 },
 "nbformat": 4,
 "nbformat_minor": 5
}
