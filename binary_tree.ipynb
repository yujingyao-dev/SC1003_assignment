{
 "cells": [
  {
   "cell_type": "code",
   "execution_count": 5,
   "id": "496b9daf-beca-486a-8872-07a8982541e8",
   "metadata": {},
   "outputs": [],
   "source": [
    "tree = [[[[2], 5, [10]], 3, [[0], 1, []]], 4, [[[], 9, []], 8, [[6], 6, [8]]]]"
   ]
  },
  {
   "cell_type": "code",
   "execution_count": 42,
   "id": "23490b90-8398-445e-aaed-50df66c755a0",
   "metadata": {},
   "outputs": [],
   "source": [
    "def print_tree(tree,layer=0):\n",
    "    if len(tree) == 1:\n",
    "        print(\" \"*(2*layer+1)+str(tree[0]))\n",
    "        return\n",
    "    elif len(tree) == 0:\n",
    "        print(\" \"*(2*layer+1)+\"_\")\n",
    "        return\n",
    "    print_tree(tree[0],layer+1)\n",
    "    print(\" \"*(2*layer+1)+str(tree[1]))\n",
    "    print_tree(tree[2],layer+1)"
   ]
  },
  {
   "cell_type": "code",
   "execution_count": 43,
   "id": "fe8be63b-aa02-4c96-9acd-95874df3f23b",
   "metadata": {},
   "outputs": [
    {
     "name": "stdout",
     "output_type": "stream",
     "text": [
      "       2\n",
      "     5\n",
      "       10\n",
      "   3\n",
      "       0\n",
      "     1\n",
      "       _\n",
      " 4\n",
      "       _\n",
      "     9\n",
      "       _\n",
      "   8\n",
      "       6\n",
      "     6\n",
      "       8\n"
     ]
    }
   ],
   "source": [
    "print_tree(tree)"
   ]
  },
  {
   "cell_type": "code",
   "execution_count": 31,
   "id": "b23d692c-bdb7-469b-96e3-dd13f614ca5a",
   "metadata": {},
   "outputs": [],
   "source": [
    "def num_of_nodes(tree:list):\n",
    "    if len(tree) == 0 or len(tree) == 1:\n",
    "        return len(tree)\n",
    "    return num_of_nodes(tree[0]) + 1 + num_of_nodes(tree[2])"
   ]
  },
  {
   "cell_type": "code",
   "execution_count": 32,
   "id": "5de68630-2f78-4eb3-8619-7917ceb8c4d3",
   "metadata": {},
   "outputs": [
    {
     "name": "stdout",
     "output_type": "stream",
     "text": [
      "12\n"
     ]
    }
   ],
   "source": [
    "res1 = num_of_nodes(tree)\n",
    "print(res1)"
   ]
  },
  {
   "cell_type": "code",
   "execution_count": 33,
   "id": "279d35e5-482a-426a-8397-18b761d0afa9",
   "metadata": {},
   "outputs": [],
   "source": [
    "def sum_of_nodes(tree):\n",
    "    if len(tree) == 0:\n",
    "        return 0\n",
    "    elif len(tree) == 1:\n",
    "        return tree[0]\n",
    "    return sum_of_nodes(tree[0]) + tree[1] + sum_of_nodes(tree[2])"
   ]
  },
  {
   "cell_type": "code",
   "execution_count": 34,
   "id": "b974635c-4da6-4e01-abb2-18d80f0e4c0b",
   "metadata": {},
   "outputs": [
    {
     "name": "stdout",
     "output_type": "stream",
     "text": [
      "62\n"
     ]
    }
   ],
   "source": [
    "res2 = sum_of_nodes(tree)\n",
    "print(res2)"
   ]
  },
  {
   "cell_type": "code",
   "execution_count": 39,
   "id": "3c3723b8-b40f-48bb-a8c4-65d39e3b3338",
   "metadata": {},
   "outputs": [],
   "source": [
    "def max_node(tree):\n",
    "    if len(tree) == 0:\n",
    "        return float('-inf')\n",
    "    elif len(tree) == 1:\n",
    "        return tree[0]\n",
    "    return max(max_node(tree[0]), tree[1], max_node(tree[2]))"
   ]
  },
  {
   "cell_type": "code",
   "execution_count": 40,
   "id": "bbe9e9c4-4691-4039-b84b-1c3f4cbba3cc",
   "metadata": {},
   "outputs": [
    {
     "name": "stdout",
     "output_type": "stream",
     "text": [
      "10\n"
     ]
    }
   ],
   "source": [
    "res3 = max_node(tree)\n",
    "print(res3)"
   ]
  },
  {
   "cell_type": "code",
   "execution_count": 37,
   "id": "0cde3c45-1a63-4771-88d0-e12afa0bc7c4",
   "metadata": {},
   "outputs": [],
   "source": [
    "def min_node(tree):\n",
    "    if len(tree) == 0:\n",
    "        return float('inf')\n",
    "    elif len(tree) == 1:\n",
    "        return tree[0]\n",
    "    return min(min_node(tree[0]), tree[1], min_node(tree[2]))"
   ]
  },
  {
   "cell_type": "code",
   "execution_count": 38,
   "id": "3387ba63-c16c-4607-98cb-f249f8af937f",
   "metadata": {},
   "outputs": [
    {
     "name": "stdout",
     "output_type": "stream",
     "text": [
      "0\n"
     ]
    }
   ],
   "source": [
    "res4 = min_node(tree)\n",
    "print(res4)"
   ]
  },
  {
   "cell_type": "code",
   "execution_count": 41,
   "id": "49316931-29b2-40a5-908d-57ab69347f96",
   "metadata": {},
   "outputs": [],
   "source": [
    "def mirror(tree):\n",
    "    if len(tree) <= 1:\n",
    "        return tree\n",
    "    return [mirror(tree[2]),tree[1], mirror(tree[0])]"
   ]
  },
  {
   "cell_type": "code",
   "execution_count": 46,
   "id": "d5ce9ee9-e6db-483b-9ebb-2f51c3788d83",
   "metadata": {},
   "outputs": [
    {
     "name": "stdout",
     "output_type": "stream",
     "text": [
      "       2\n",
      "     5\n",
      "       10\n",
      "   3\n",
      "       0\n",
      "     1\n",
      "       _\n",
      " 4\n",
      "       _\n",
      "     9\n",
      "       _\n",
      "   8\n",
      "       6\n",
      "     6\n",
      "       8\n",
      "====================\n",
      "       8\n",
      "     6\n",
      "       6\n",
      "   8\n",
      "       _\n",
      "     9\n",
      "       _\n",
      " 4\n",
      "       _\n",
      "     1\n",
      "       0\n",
      "   3\n",
      "       10\n",
      "     5\n",
      "       2\n"
     ]
    }
   ],
   "source": [
    "new_tree = mirror(tree)\n",
    "print_tree(tree)\n",
    "print(\"=\"*20)\n",
    "print_tree(new_tree)"
   ]
  },
  {
   "cell_type": "code",
   "execution_count": null,
   "id": "cbca3fde-688c-4d1d-a10b-1800109c1036",
   "metadata": {},
   "outputs": [],
   "source": []
  }
 ],
 "metadata": {
  "kernelspec": {
   "display_name": "Python 3 (ipykernel)",
   "language": "python",
   "name": "python3"
  },
  "language_info": {
   "codemirror_mode": {
    "name": "ipython",
    "version": 3
   },
   "file_extension": ".py",
   "mimetype": "text/x-python",
   "name": "python",
   "nbconvert_exporter": "python",
   "pygments_lexer": "ipython3",
   "version": "3.13.7"
  }
 },
 "nbformat": 4,
 "nbformat_minor": 5
}
